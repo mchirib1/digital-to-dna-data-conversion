{
 "cells": [
  {
   "cell_type": "code",
   "execution_count": 134,
   "id": "90622b23-379b-4ab9-b38e-c13d358dd440",
   "metadata": {},
   "outputs": [],
   "source": [
    "import os \n",
    "import base64\n",
    "import itertools\n",
    "\n",
    "import bitstring"
   ]
  },
  {
   "cell_type": "code",
   "execution_count": 153,
   "id": "31c3bc5e-6c9a-46eb-af6d-247c46009e85",
   "metadata": {},
   "outputs": [],
   "source": [
    "def cvrt_to_nucleo(seq):\n",
    "\n",
    "    end = len(seq)\n",
    "\n",
    "    nucleo_seq = ''\n",
    "\n",
    "    for i in range(0, end-1, 2):\n",
    "\n",
    "        if seq[i] + seq[i+1] == '00':\n",
    "            nucleo_seq += 'A'\n",
    "        elif seq[i] + seq[i+1] == '01':\n",
    "            nucleo_seq += 'C'\n",
    "        elif seq[i] + seq[i+1] == '10':\n",
    "            nucleo_seq += 'G'\n",
    "        elif seq[i] + seq[i+1] == '11':\n",
    "            nucleo_seq += 'T'\n",
    "\n",
    "    return nucleo_seq"
   ]
  },
  {
   "cell_type": "code",
   "execution_count": 135,
   "id": "09d60168-7d18-4476-8a46-d348116b2e45",
   "metadata": {},
   "outputs": [],
   "source": [
    "with open('target.pdf', 'br') as file:\n",
    "    data = file.read()\n",
    "    \n",
    "bits = bitstring.BitArray(data).bin\n",
    "\n",
    "with open('raw_data_file.txt', 'w') as raw_data_file:\n",
    "    raw_data_file.write(bits)\n",
    "    raw_data_file.close()"
   ]
  },
  {
   "cell_type": "code",
   "execution_count": 152,
   "id": "ced2ac70-c2af-4a9d-bc47-3f47266978d4",
   "metadata": {},
   "outputs": [],
   "source": [
    "dna = cvrt_to_nucleo(bits)\n",
    "\n",
    "with open('dna_data_file.txt', 'w') as dna_data_file:\n",
    "    dna_data_file.write(dna)\n",
    "    dna_data_file.close"
   ]
  },
  {
   "cell_type": "code",
   "execution_count": null,
   "id": "a7c9328a-e323-4d49-aaf7-c76ee7a4d17f",
   "metadata": {},
   "outputs": [],
   "source": []
  }
 ],
 "metadata": {
  "kernelspec": {
   "display_name": "Python 3 (ipykernel)",
   "language": "python",
   "name": "python3"
  },
  "language_info": {
   "codemirror_mode": {
    "name": "ipython",
    "version": 3
   },
   "file_extension": ".py",
   "mimetype": "text/x-python",
   "name": "python",
   "nbconvert_exporter": "python",
   "pygments_lexer": "ipython3",
   "version": "3.8.10"
  }
 },
 "nbformat": 4,
 "nbformat_minor": 5
}
